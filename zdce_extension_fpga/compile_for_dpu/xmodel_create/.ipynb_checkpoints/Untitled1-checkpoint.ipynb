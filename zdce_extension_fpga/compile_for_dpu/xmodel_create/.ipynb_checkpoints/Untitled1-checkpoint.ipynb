{
 "cells": [
  {
   "cell_type": "code",
   "execution_count": 1,
   "id": "4a6564cf-941b-4f75-89a1-66f9aa5896a4",
   "metadata": {},
   "outputs": [
    {
     "name": "stdout",
     "output_type": "stream",
     "text": [
      "No CUDA runtime is found, using CUDA_HOME='/usr/local/cuda'\n",
      "\n",
      "\u001b[0;32m[VAIQ_NOTE]: Loading NNDCT kernels...\u001b[0m\n"
     ]
    }
   ],
   "source": [
    "import torch\n",
    "from model import enhance_net_nopool"
   ]
  },
  {
   "cell_type": "code",
   "execution_count": 2,
   "id": "6fbaa24a-37e9-4f2b-b7ed-af89c41e13dd",
   "metadata": {},
   "outputs": [
    {
     "data": {
      "text/plain": [
       "enhance_net_nopool(\n",
       "  (relu): ReLU(inplace=True)\n",
       "  (upsample): Upsample(scale_factor=4.0, mode=nearest)\n",
       "  (upsample_down): Upsample(scale_factor=0.25, mode=nearest)\n",
       "  (e_conv1): CSDN_Tem(\n",
       "    (depth_conv): Conv2d(3, 3, kernel_size=(3, 3), stride=(1, 1), padding=(1, 1), groups=3)\n",
       "    (point_conv): Conv2d(3, 32, kernel_size=(1, 1), stride=(1, 1))\n",
       "  )\n",
       "  (e_conv2): CSDN_Tem(\n",
       "    (depth_conv): Conv2d(32, 32, kernel_size=(3, 3), stride=(1, 1), padding=(1, 1), groups=32)\n",
       "    (point_conv): Conv2d(32, 32, kernel_size=(1, 1), stride=(1, 1))\n",
       "  )\n",
       "  (e_conv3): CSDN_Tem(\n",
       "    (depth_conv): Conv2d(32, 32, kernel_size=(3, 3), stride=(1, 1), padding=(1, 1), groups=32)\n",
       "    (point_conv): Conv2d(32, 32, kernel_size=(1, 1), stride=(1, 1))\n",
       "  )\n",
       "  (e_conv4): CSDN_Tem(\n",
       "    (depth_conv): Conv2d(32, 32, kernel_size=(3, 3), stride=(1, 1), padding=(1, 1), groups=32)\n",
       "    (point_conv): Conv2d(32, 32, kernel_size=(1, 1), stride=(1, 1))\n",
       "  )\n",
       "  (e_conv5): CSDN_Tem(\n",
       "    (depth_conv): Conv2d(64, 64, kernel_size=(3, 3), stride=(1, 1), padding=(1, 1), groups=64)\n",
       "    (point_conv): Conv2d(64, 32, kernel_size=(1, 1), stride=(1, 1))\n",
       "  )\n",
       "  (e_conv6): CSDN_Tem(\n",
       "    (depth_conv): Conv2d(64, 64, kernel_size=(3, 3), stride=(1, 1), padding=(1, 1), groups=64)\n",
       "    (point_conv): Conv2d(64, 32, kernel_size=(1, 1), stride=(1, 1))\n",
       "  )\n",
       "  (e_conv7): CSDN_Tem(\n",
       "    (depth_conv): Conv2d(64, 64, kernel_size=(3, 3), stride=(1, 1), padding=(1, 1), groups=64)\n",
       "    (point_conv): Conv2d(64, 3, kernel_size=(1, 1), stride=(1, 1))\n",
       "  )\n",
       ")"
      ]
     },
     "execution_count": 2,
     "metadata": {},
     "output_type": "execute_result"
    }
   ],
   "source": [
    "mod = enhance_net_nopool(scale_factor=4)\n",
    "device = torch.device('cpu' if torch.cuda.is_available() else 'cpu')\n",
    "mod.load_state_dict(torch.load(\"Epoch99_.pth\", map_location=device))\n",
    "mod.eval()"
   ]
  },
  {
   "cell_type": "code",
   "execution_count": 3,
   "id": "71e49d6d-3a4e-4f61-9b1e-dca7bb6c5b28",
   "metadata": {},
   "outputs": [
    {
     "name": "stdout",
     "output_type": "stream",
     "text": [
      "total 10561\n",
      "train params 10561\n"
     ]
    }
   ],
   "source": [
    "tp = sum(p.numel() for p in mod.parameters())\n",
    "\n",
    "\n",
    "t_p = sum(p.numel() for p in mod.parameters() if p.requires_grad)\n",
    "print('total',tp)\n",
    "\n",
    "print('train params', t_p)"
   ]
  },
  {
   "cell_type": "code",
   "execution_count": 4,
   "id": "c9c253fe-9957-4117-9d9f-381252a096f3",
   "metadata": {},
   "outputs": [
    {
     "name": "stdout",
     "output_type": "stream",
     "text": [
      "6\n"
     ]
    }
   ],
   "source": [
    "import json\n",
    "with open('quantize_result/quant_info.json') as f:\n",
    "    data = json.load(f)\n",
    "print(len(data))  # Should not be zero\n"
   ]
  },
  {
   "cell_type": "code",
   "execution_count": null,
   "id": "17abb00c-3eaf-4740-90aa-08b71d3b9fa4",
   "metadata": {},
   "outputs": [],
   "source": [
    "from pytorch_nndct.apis import torch_quantizer\n",
    "\n",
    "fdg = torch_quantizer()"
   ]
  }
 ],
 "metadata": {
  "kernelspec": {
   "display_name": "Python 3 (ipykernel)",
   "language": "python",
   "name": "python3"
  },
  "language_info": {
   "codemirror_mode": {
    "name": "ipython",
    "version": 3
   },
   "file_extension": ".py",
   "mimetype": "text/x-python",
   "name": "python",
   "nbconvert_exporter": "python",
   "pygments_lexer": "ipython3",
   "version": "3.7.12"
  }
 },
 "nbformat": 4,
 "nbformat_minor": 5
}
